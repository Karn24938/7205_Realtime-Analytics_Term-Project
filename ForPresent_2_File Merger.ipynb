{
 "cells": [
  {
   "cell_type": "code",
   "execution_count": 9,
   "id": "16c93830",
   "metadata": {},
   "outputs": [
    {
     "name": "stdout",
     "output_type": "stream",
     "text": [
      "Enter stock name:MANT\n",
      "D:/KARN/Study/Master Degree/5_Second_2021/7205_Realtime Analytics/Project/MANT/Final\\Timing FINAL_MANT_year1month1.csv has been imported.\n",
      "D:/KARN/Study/Master Degree/5_Second_2021/7205_Realtime Analytics/Project/MANT/Final\\Timing FINAL_MANT_year1month10.csv has been imported.\n",
      "D:/KARN/Study/Master Degree/5_Second_2021/7205_Realtime Analytics/Project/MANT/Final\\Timing FINAL_MANT_year1month11.csv has been imported.\n",
      "D:/KARN/Study/Master Degree/5_Second_2021/7205_Realtime Analytics/Project/MANT/Final\\Timing FINAL_MANT_year1month12.csv has been imported.\n",
      "D:/KARN/Study/Master Degree/5_Second_2021/7205_Realtime Analytics/Project/MANT/Final\\Timing FINAL_MANT_year1month2.csv has been imported.\n",
      "D:/KARN/Study/Master Degree/5_Second_2021/7205_Realtime Analytics/Project/MANT/Final\\Timing FINAL_MANT_year1month3.csv has been imported.\n",
      "D:/KARN/Study/Master Degree/5_Second_2021/7205_Realtime Analytics/Project/MANT/Final\\Timing FINAL_MANT_year1month4.csv has been imported.\n",
      "D:/KARN/Study/Master Degree/5_Second_2021/7205_Realtime Analytics/Project/MANT/Final\\Timing FINAL_MANT_year1month5.csv has been imported.\n",
      "D:/KARN/Study/Master Degree/5_Second_2021/7205_Realtime Analytics/Project/MANT/Final\\Timing FINAL_MANT_year1month6.csv has been imported.\n",
      "D:/KARN/Study/Master Degree/5_Second_2021/7205_Realtime Analytics/Project/MANT/Final\\Timing FINAL_MANT_year1month7.csv has been imported.\n",
      "D:/KARN/Study/Master Degree/5_Second_2021/7205_Realtime Analytics/Project/MANT/Final\\Timing FINAL_MANT_year1month8.csv has been imported.\n",
      "D:/KARN/Study/Master Degree/5_Second_2021/7205_Realtime Analytics/Project/MANT/Final\\Timing FINAL_MANT_year1month9.csv has been imported.\n",
      "D:/KARN/Study/Master Degree/5_Second_2021/7205_Realtime Analytics/Project/MANT/Final\\Timing FINAL_MANT_year2month1.csv has been imported.\n",
      "D:/KARN/Study/Master Degree/5_Second_2021/7205_Realtime Analytics/Project/MANT/Final\\Timing FINAL_MANT_year2month10.csv has been imported.\n",
      "D:/KARN/Study/Master Degree/5_Second_2021/7205_Realtime Analytics/Project/MANT/Final\\Timing FINAL_MANT_year2month11.csv has been imported.\n",
      "D:/KARN/Study/Master Degree/5_Second_2021/7205_Realtime Analytics/Project/MANT/Final\\Timing FINAL_MANT_year2month12.csv has been imported.\n",
      "D:/KARN/Study/Master Degree/5_Second_2021/7205_Realtime Analytics/Project/MANT/Final\\Timing FINAL_MANT_year2month2.csv has been imported.\n",
      "D:/KARN/Study/Master Degree/5_Second_2021/7205_Realtime Analytics/Project/MANT/Final\\Timing FINAL_MANT_year2month4.csv has been imported.\n",
      "D:/KARN/Study/Master Degree/5_Second_2021/7205_Realtime Analytics/Project/MANT/Final\\Timing FINAL_MANT_year2month5.csv has been imported.\n",
      "D:/KARN/Study/Master Degree/5_Second_2021/7205_Realtime Analytics/Project/MANT/Final\\Timing FINAL_MANT_year2month6.csv has been imported.\n",
      "D:/KARN/Study/Master Degree/5_Second_2021/7205_Realtime Analytics/Project/MANT/Final\\Timing FINAL_MANT_year2month7.csv has been imported.\n",
      "D:/KARN/Study/Master Degree/5_Second_2021/7205_Realtime Analytics/Project/MANT/Final\\Timing FINAL_MANT_year2month8.csv has been imported.\n",
      "D:/KARN/Study/Master Degree/5_Second_2021/7205_Realtime Analytics/Project/MANT/Final\\Timing FINAL_MANT_year2month9.csv has been imported.\n"
     ]
    }
   ],
   "source": [
    "import shutil\n",
    "import glob\n",
    "import os\n",
    "\n",
    "stockname = input(\"Enter stock name:\")\n",
    "#import csv files from folder\n",
    "\n",
    "path =\"D:/KARN/Study/Master Degree/5_Second_2021/7205_Realtime Analytics/Project/MANT/Final\"\n",
    "\n",
    "allFiles = glob.glob(path + \"/*.csv\")\n",
    "allFiles.sort()  # glob lacks reliable ordering, so impose your own if output order matters\n",
    "filename = (f\"FULL_{stockname}.csv\")\n",
    "\n",
    "with open(filename, 'wb') as outfile:\n",
    "    for i, fname in enumerate(allFiles):\n",
    "        with open(fname, 'rb') as infile:\n",
    "            if i != 0:\n",
    "                infile.readline()  # Throw away header on all but first file\n",
    "            # Block copy rest of file from input to output without parsing\n",
    "            shutil.copyfileobj(infile, outfile)\n",
    "            print(fname + \" has been imported.\")"
   ]
  }
 ],
 "metadata": {
  "kernelspec": {
   "display_name": "Python 3",
   "language": "python",
   "name": "python3"
  },
  "language_info": {
   "codemirror_mode": {
    "name": "ipython",
    "version": 3
   },
   "file_extension": ".py",
   "mimetype": "text/x-python",
   "name": "python",
   "nbconvert_exporter": "python",
   "pygments_lexer": "ipython3",
   "version": "3.7.6"
  }
 },
 "nbformat": 4,
 "nbformat_minor": 5
}
