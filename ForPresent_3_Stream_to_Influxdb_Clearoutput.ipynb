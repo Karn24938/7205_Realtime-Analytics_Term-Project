{
  "cells": [
    {
      "cell_type": "markdown",
      "id": "cd7d4997",
      "metadata": {
        "id": "cd7d4997"
      },
      "source": [
        "# 1) Import Package"
      ]
    },
    {
      "cell_type": "code",
      "execution_count": null,
      "id": "a0d07867",
      "metadata": {
        "id": "a0d07867"
      },
      "outputs": [],
      "source": [
        "import time\n",
        "import datetime\n",
        "import random\n",
        "import influxdb_client\n",
        "import pandas as pd\n",
        "from influxdb_client.client.write_api import SYNCHRONOUS"
      ]
    },
    {
      "cell_type": "markdown",
      "id": "605f3466",
      "metadata": {
        "id": "605f3466"
      },
      "source": [
        "# 2) Import Data from previous"
      ]
    },
    {
      "cell_type": "code",
      "execution_count": null,
      "id": "8cce78bb",
      "metadata": {
        "id": "8cce78bb"
      },
      "outputs": [],
      "source": [
        "def import_stock(stockname):\n",
        "    name_temp = stockname.upper()\n",
        "    dataframename = (f\"{name_temp}\")\n",
        "    filename = (f\"FULL_{name_temp}.csv\")\n",
        "    data = pd.read_csv(filename)\n",
        "    data['time'] = pd.to_datetime(data['time'])\n",
        "    data = data.sort_values(by=['time'],ascending=True)\n",
        "    data.set_index('time')\n",
        "    return data"
      ]
    },
    {
      "cell_type": "code",
      "execution_count": null,
      "id": "19f15061",
      "metadata": {
        "id": "19f15061"
      },
      "outputs": [],
      "source": [
        "BA_full = import_stock(\"BA\")\n",
        "BWXT_full = import_stock(\"BWXT\")\n",
        "CACI_full = import_stock(\"CACI\")\n",
        "GD_full = import_stock(\"GD\")\n",
        "HII_full = import_stock(\"HII\")\n",
        "LDOS_full = import_stock(\"LDOS\")\n",
        "LHX_full = import_stock(\"LHX\")\n",
        "LMT_full = import_stock(\"LMT\")\n",
        "MANT_full = import_stock(\"MANT\")\n",
        "NOC_full = import_stock(\"NOC\")\n",
        "RTX_full = import_stock(\"RTX\")\n",
        "TXT_full = import_stock(\"TXT\")"
      ]
    },
    {
      "cell_type": "markdown",
      "id": "806c011b",
      "metadata": {
        "id": "806c011b"
      },
      "source": [
        "# 3) Set Start & End Time"
      ]
    },
    {
      "cell_type": "code",
      "execution_count": null,
      "id": "394d44e8",
      "metadata": {
        "id": "394d44e8"
      },
      "outputs": [],
      "source": [
        "#Start Time\n",
        "\n",
        "#%Y-%m-%d %H:%M:%S\n",
        "\n",
        "#Earilest 2020-06-22 04:01:00\n",
        "\n",
        "#1\n",
        "#Select Start time between earliest timestamp or self input\n",
        "\n",
        "#1.1 default\n",
        "#starttime = LMT[\"time\"].min()\n",
        "\n",
        "#1.2 self setting\n",
        "#Earilest 2020-06-22 04:01:00\n",
        "starttime = datetime.datetime.strptime(\"2020-06-22 09:31:00\", '%Y-%m-%d %H:%M:%S')\n",
        "\n",
        "if starttime < datetime.datetime.strptime(\"2020-06-22 09:31:00\", '%Y-%m-%d %H:%M:%S'):\n",
        "    starttime = datetime.datetime.strptime(\"2020-06-22 09:31:00\", '%Y-%m-%d %H:%M:%S')\n",
        "\n",
        "#2\n",
        "#current time counting\n",
        "current_time = starttime\n",
        "\n",
        "#3\n",
        "#Select End time between earliest timestamp or self input\n",
        "\n",
        "#Lasttime 2022-06-10 18:02:00\n",
        "#3.1 default\n",
        "#endtime = LMT[\"time\"].max()\n",
        "\n",
        "#3.2 self setting\n",
        "#Earilest 2022-06-10 18:02:00\n",
        "endtime = datetime.datetime.strptime(\"2022-06-10 18:02:00\", '%Y-%m-%d %H:%M:%S')\n",
        "\n",
        "if endtime > datetime.datetime.strptime(\"2022-06-10 18:02:00\", '%Y-%m-%d %H:%M:%S'):\n",
        "    endtime = datetime.datetime.strptime(\"2022-06-10 18:02:00\", '%Y-%m-%d %H:%M:%S')\n"
      ]
    },
    {
      "cell_type": "code",
      "execution_count": null,
      "id": "8df26380",
      "metadata": {
        "id": "8df26380"
      },
      "outputs": [],
      "source": [
        "#Select Only data after start time\n",
        "BA = BA_full.loc[(BA_full['time'] >= starttime)]\n",
        "BWXT = BWXT_full.loc[(BWXT_full['time'] >= starttime)]\n",
        "CACI = CACI_full.loc[(CACI_full['time'] >= starttime)]\n",
        "GD = GD_full.loc[(GD_full['time'] >= starttime)]\n",
        "HII = HII_full.loc[(HII_full['time'] >= starttime)]\n",
        "LDOS = LDOS_full.loc[(LDOS_full['time'] >= starttime)]\n",
        "LHX = LHX_full.loc[(LHX_full['time'] >= starttime)]\n",
        "LMT = LMT_full.loc[(LMT_full['time'] >= starttime)]\n",
        "MANT = MANT_full.loc[(MANT_full['time'] >= starttime)]\n",
        "NOC = NOC_full.loc[(NOC_full['time'] >= starttime)]\n",
        "RTX = RTX_full.loc[(RTX_full['time'] >= starttime)]\n",
        "TXT = TXT_full.loc[(TXT_full['time'] >= starttime)]"
      ]
    },
    {
      "cell_type": "markdown",
      "id": "c1e86ad0",
      "metadata": {
        "id": "c1e86ad0"
      },
      "source": [
        "# 4) Update Stock at each time"
      ]
    },
    {
      "cell_type": "code",
      "execution_count": null,
      "id": "c75691e3",
      "metadata": {
        "id": "c75691e3"
      },
      "outputs": [],
      "source": [
        "def stock_update(stockname):\n",
        "    Now = stockname.loc[(stockname['time'] >= current_time)]\n",
        "    This_Row = Now.loc[(Now['time'] == Now[\"time\"].min())]\n",
        "    \n",
        "    \n",
        "    #0 --> Name   \n",
        "    show_stockname = This_Row[\"Stock_Name\"].iloc[0]\n",
        "    \n",
        "    #1 --> Time\n",
        "    show_time = This_Row[\"time\"].iloc[0]\n",
        "    #print(show_time)\n",
        "    #print(type(show_time))\n",
        "    \n",
        "    #2 --> Price\n",
        "    show_price = This_Row[\"open\"].iloc[0]\n",
        "    #print(show_price)\n",
        "    #print(type(show_price))\n",
        "\n",
        "    #3 --> Vol\n",
        "    show_vol = This_Row[\"volume\"].iloc[0]\n",
        "    #print(show_vol)\n",
        "    #print(type(show_vol))\n",
        "\n",
        "    \n",
        "    this_stock = [show_stockname,show_time,show_price,show_vol]\n",
        "    #this_stock = [show_time,show_price,show_vol]\n",
        "    \n",
        "    return this_stock"
      ]
    },
    {
      "cell_type": "markdown",
      "id": "ee5bbbe0",
      "metadata": {
        "id": "ee5bbbe0"
      },
      "source": [
        "# 5) Prepare stream source"
      ]
    },
    {
      "cell_type": "code",
      "execution_count": null,
      "id": "75ccd36a",
      "metadata": {
        "id": "75ccd36a"
      },
      "outputs": [],
      "source": [
        "token = \"_S-OBMurRIZfH_84JKd4PHPttIxv4nUJ4wOXSuY_dgIp5St1i8qHJDF9Jh48FupSXpUIjgTCJ7Yr_uNP6p-BGw==\"\n",
        "org = \"KARN\"\n",
        "#org = 618198855986d409\n",
        "bucket = \"Watchlist\"\n",
        "\n",
        "# Store the URL of your InfluxDB instance\n",
        "url=\"http://localhost:8086\"\n",
        "\n",
        "client = influxdb_client.InfluxDBClient(\n",
        "    url=url,\n",
        "    token=token,\n",
        "    org=org\n",
        ")\n",
        "write_api = client.write_api(write_options=SYNCHRONOUS)"
      ]
    },
    {
      "cell_type": "markdown",
      "id": "d41adc54",
      "metadata": {
        "id": "d41adc54"
      },
      "source": [
        "# 6) Stream into influxdb"
      ]
    },
    {
      "cell_type": "code",
      "execution_count": null,
      "id": "8ab14bb4",
      "metadata": {
        "id": "8ab14bb4"
      },
      "outputs": [],
      "source": [
        "#time moving\n",
        "time_change = datetime.timedelta(seconds=0)\n",
        "\n",
        "while current_time <= endtime:\n",
        "    \n",
        "    #skip Saturday & Sunday\n",
        "    if (current_time.weekday() == 5) or (current_time.weekday() == 6):\n",
        "        time_change = datetime.timedelta(hours=24)\n",
        "        current_time = current_time + time_change\n",
        "        \n",
        "    #skip stock market close\n",
        "    elif current_time.hour >= 20:\n",
        "        time_change = datetime.timedelta(hours=4) #If +8 time will skip to noon instantly must +4 to midnight then +4 to 04\n",
        "        current_time = current_time + time_change\n",
        "        time_change = datetime.timedelta(hours=4)\n",
        "        current_time = current_time + time_change\n",
        "        \n",
        "    else:\n",
        "        time_change = datetime.timedelta(minutes=1)\n",
        "        \n",
        "        current_status = list()\n",
        "        \n",
        "        BA_Now = stock_update(BA)\n",
        "        BWXT_Now = stock_update(BWXT)\n",
        "        CACI_Now = stock_update(CACI)\n",
        "        GD_Now = stock_update(GD)\n",
        "        HII_Now = stock_update(HII)\n",
        "        LDOS_Now = stock_update(LDOS)\n",
        "        LHX_Now = stock_update(LHX)\n",
        "        LMT_Now = stock_update(LMT)\n",
        "        MANT_Now = stock_update(MANT)\n",
        "        NOC_Now = stock_update(NOC)\n",
        "        RTX_Now = stock_update(RTX)\n",
        "        TXT_Now = stock_update(TXT)\n",
        "        \n",
        "        current_status.append(BA_Now)\n",
        "        current_status.append(BWXT_Now)\n",
        "        current_status.append(CACI_Now)\n",
        "        current_status.append(GD_Now)\n",
        "        current_status.append(HII_Now)\n",
        "        current_status.append(LDOS_Now)\n",
        "        current_status.append(LHX_Now)\n",
        "        current_status.append(LMT_Now)\n",
        "        current_status.append(MANT_Now)\n",
        "        current_status.append(NOC_Now)\n",
        "        current_status.append(RTX_Now)\n",
        "        current_status.append(TXT_Now)\n",
        "        \n",
        "        current_time = current_time + time_change\n",
        "            \n",
        "        BA_write = influxdb_client.Point(\"Stock\").tag(\"StockName\",  \n",
        "                \"Boeing_BA\").field(\"Price\", (BA_Now[2]).round(3))\n",
        "        write_api.write(bucket=bucket, org=org, record=BA_write) \n",
        "        \n",
        "        BWXT_write = influxdb_client.Point(\"Stock\").tag(\"StockName\",  \n",
        "                \"BWX-NukeTech_BWXT\").field(\"Price\", (BWXT_Now[2]).round(3))\n",
        "        write_api.write(bucket=bucket, org=org, record=BWXT_write)\n",
        "        \n",
        "        CACI_write = influxdb_client.Point(\"Stock\").tag(\"StockName\",  \n",
        "                \"CA-Analysis_CACI\").field(\"Price\", (CACI_Now[2]).round(3))\n",
        "        write_api.write(bucket=bucket, org=org, record=CACI_write)\n",
        "        \n",
        "        GD_write = influxdb_client.Point(\"Stock\").tag(\"StockName\",  \n",
        "                \"Gen.-Dynamic_GD\").field(\"Price\", (GD_Now[2]).round(3))\n",
        "        write_api.write(bucket=bucket, org=org, record=GD_write)\n",
        "        \n",
        "        HII_write = influxdb_client.Point(\"Stock\").tag(\"StockName\",  \n",
        "                \"HII-Shipyard_HII\").field(\"Price\", (HII_Now[2]).round(3))\n",
        "        write_api.write(bucket=bucket, org=org, record=HII_write) \n",
        "        \n",
        "        LDOS_write = influxdb_client.Point(\"Stock\").tag(\"StockName\",  \n",
        "                \"ItHolding_LDOS\").field(\"Price\", (LDOS_Now[2]).round(3))\n",
        "        write_api.write(bucket=bucket, org=org, record=LDOS_write)\n",
        "        \n",
        "        LHX_write = influxdb_client.Point(\"Stock\").tag(\"StockName\",  \n",
        "                \"L3Harris_LHX\").field(\"Price\", (LHX_Now[2]).round(3))\n",
        "        write_api.write(bucket=bucket, org=org, record=LHX_write)\n",
        "        \n",
        "        LMT_write = influxdb_client.Point(\"Stock\").tag(\"StockName\",  \n",
        "                \"Lockheed_LMT\").field(\"Price\", (LMT_Now[2]).round(3))\n",
        "        write_api.write(bucket=bucket, org=org, record=LMT_write)    \n",
        "                \n",
        "        MANT_write = influxdb_client.Point(\"Stock\").tag(\"StockName\",  \n",
        "                \"Mantech_MANT\").field(\"Price\", (MANT_Now[2]).round(3))\n",
        "        write_api.write(bucket=bucket, org=org, record=MANT_write)\n",
        "        \n",
        "        NOC_write = influxdb_client.Point(\"Stock\").tag(\"StockName\",  \n",
        "                \"NorthropG_NOC\").field(\"Price\", (NOC_Now[2]).round(3))\n",
        "        write_api.write(bucket=bucket, org=org, record=NOC_write)\n",
        "        \n",
        "        RTX_write = influxdb_client.Point(\"Stock\").tag(\"StockName\",  \n",
        "                \"Raytheon_RTX\").field(\"Price\", (RTX_Now[2]).round(3))\n",
        "        write_api.write(bucket=bucket, org=org, record=RTX_write)\n",
        "        \n",
        "        TXT_write = influxdb_client.Point(\"Stock\").tag(\"StockName\",  \n",
        "                \"Textron_TXT\").field(\"Price\", (TXT_Now[2]).round(3))\n",
        "        write_api.write(bucket=bucket, org=org, record=TXT_write)\n",
        "\n",
        "        print(f\"Boeing_BA --> Time : {BA_Now[1]} Price : {(BA_Now[2]).round(3)} | Vol : {BA_Now[3]}\")\n",
        "        print(f\"BWX-NukeTech_BWXT --> Time : {BWXT_Now[1]} Price : {(BWXT_Now[2]).round(3)} | Vol : {BWXT_Now[3]}\")\n",
        "        print(f\"CA-Analysis_CACI --> Time : {CACI_Now[1]} Price : {(CACI_Now[2]).round(3)} | Vol : {CACI_Now[3]}\")\n",
        "        print(f\"Gen.-Dynamic_GD --> Time : {GD_Now[1]} Price : {(GD_Now[2]).round(3)} | Vol : {GD_Now[3]}\")\n",
        "        print(f\"HII-Shipyard_HII --> Time : {HII_Now[1]} Price : {(HII_Now[2]).round(3)} | Vol : {HII_Now[3]}\")\n",
        "        print(f\"ItHolding_LDOS --> Time : {LDOS_Now[1]} Price : {(LDOS_Now[2]).round(3)} | Vol : {LDOS_Now[3]}\")\n",
        "        print(f\"L3Harris_LHX --> Time : {LHX_Now[1]} Price : {(LHX_Now[2]).round(3)} | Vol : {LHX_Now[3]}\")\n",
        "        print(f\"Lockheed_LMT --> Time : {LMT_Now[1]} Price : {(LMT_Now[2]).round(3)} | Vol : {LMT_Now[3]}\")\n",
        "        print(f\"Mantech_MANT --> Time : {MANT_Now[1]} Price : {(MANT_Now[2]).round(3)} | Vol : {MANT_Now[3]}\")\n",
        "        print(f\"NorthropG_NOC --> Time : {NOC_Now[1]} Price : {(NOC_Now[2]).round(3)} | Vol : {NOC_Now[3]}\")\n",
        "        print(f\"Raytheon_RTX --> Time : {RTX_Now[1]} Price : {(RTX_Now[2]).round(3)} | Vol : {RTX_Now[3]}\")\n",
        "        print(f\"Textron_TXT --> Time : {TXT_Now[1]} Price : {(TXT_Now[2]).round(3)} | Vol : {TXT_Now[3]}\")\n",
        "\n",
        "\n",
        "        #p = influxdb_client.Point(my_measurement).tag(location,  \n",
        "        #Prague).field(temperature, float(randomlist[0]))\n",
        "        \n",
        "        #for each_now in current_status:\n",
        "            \n",
        "                #BA = influxdb_client.Point(\"Watchlist\").tag(\"Boeing_BA\",  \n",
        "                #\"Defense\").field(\"Price\", float(randomlist[0]))\n",
        "    \n",
        "                #write_api.write(bucket=bucket, org=org, record=BA)\n",
        "        \n",
        "                #print(f\"Stock : {each_now[0]} | Price : {(each_now[2]).round(3)} | Vol : {each_now[3]}\")"
      ]
    }
  ],
  "metadata": {
    "kernelspec": {
      "display_name": "Python 3",
      "language": "python",
      "name": "python3"
    },
    "language_info": {
      "codemirror_mode": {
        "name": "ipython",
        "version": 3
      },
      "file_extension": ".py",
      "mimetype": "text/x-python",
      "name": "python",
      "nbconvert_exporter": "python",
      "pygments_lexer": "ipython3",
      "version": "3.7.6"
    },
    "colab": {
      "name": "ForPresent_3_Stream_to_Influxdb.ipynb",
      "provenance": [],
      "collapsed_sections": []
    }
  },
  "nbformat": 4,
  "nbformat_minor": 5
}