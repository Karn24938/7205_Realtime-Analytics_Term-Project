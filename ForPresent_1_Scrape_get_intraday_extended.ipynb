{
 "cells": [
  {
   "cell_type": "markdown",
   "id": "1c0b5c1e",
   "metadata": {},
   "source": [
    "# 1) Import Package"
   ]
  },
  {
   "cell_type": "code",
   "execution_count": 1,
   "id": "ca47dd58",
   "metadata": {},
   "outputs": [],
   "source": [
    "import pandas\n",
    "import csv\n",
    "import re\n",
    "import time\n",
    "import datetime\n",
    "import numpy\n",
    "from io import StringIO\n",
    "from alpha_vantage.timeseries import TimeSeries\n",
    "from alpha_vantage.foreignexchange import ForeignExchange\n",
    "from alpha_vantage.cryptocurrencies import CryptoCurrencies"
   ]
  },
  {
   "cell_type": "markdown",
   "id": "9c07c083",
   "metadata": {},
   "source": [
    "# 2) Input API"
   ]
  },
  {
   "cell_type": "code",
   "execution_count": 2,
   "id": "5cfa310b",
   "metadata": {},
   "outputs": [],
   "source": [
    "API_KEYS = \"SXFMNCRU1PXNVHST\"\n",
    "#LIMIT --> 5 API Requests per Minutes\n",
    "#LIMIT --> 500 API Requests per Day\n",
    "ts_e = TimeSeries(key = API_KEYS, output_format=\"csv\") "
   ]
  },
  {
   "cell_type": "markdown",
   "id": "e5fe9cbd",
   "metadata": {},
   "source": [
    "# 3) Scrape Raw Data "
   ]
  },
  {
   "cell_type": "code",
   "execution_count": 4,
   "id": "969515b7",
   "metadata": {},
   "outputs": [],
   "source": [
    "#timing is slicer\n",
    "# Scrape Raw data and write into temp file\n",
    "def scrape_ext_temp_write(stockname, timing):\n",
    "    data_e , metadata_e = ts_e.get_intraday_extended(symbol=stockname, interval=\"1min\", slice=timing)\n",
    "    temp_filename = (f\"TEMP_{stockname}_{timing}.csv\")\n",
    "    with open(temp_filename, 'w') as f:\n",
    "        writer = csv.writer(f)\n",
    "        # write the data\n",
    "        writer.writerow(data_e)"
   ]
  },
  {
   "cell_type": "markdown",
   "id": "64ebb746",
   "metadata": {},
   "source": [
    "# 4) Convert Raw Data to proper format"
   ]
  },
  {
   "cell_type": "code",
   "execution_count": 5,
   "id": "8b81e382",
   "metadata": {},
   "outputs": [],
   "source": [
    "def scrape_ext_temp_processor(stockname, timing):\n",
    "    temp_filename = (f\"TEMP_{stockname}_{timing}.csv\")\n",
    "    temp1 = pandas.read_csv(temp_filename)\n",
    "    temp2 = temp1.columns.values.tolist()\n",
    "    data_e_use = pandas.DataFrame(columns=['time', 'open', 'high', 'low', 'close', 'volume'])\n",
    "    temp3 = temp2[1:]\n",
    "    q = 0\n",
    "    \n",
    "#    for i in range (len(temp3)): \n",
    "    for i in range (1,len(temp3)):  \n",
    "        temp4 = temp3[i].split(\",\")\n",
    "\n",
    "        temp5 = list()\n",
    "        for k in range(q,(q+5)) :\n",
    "            temp5.append(temp4[k][2:-1])\n",
    "\n",
    "        temp5.append(temp4[(q+5)][2:-2])\n",
    "\n",
    "        a_series = pandas.Series(temp5, index=['time', 'open', 'high', 'low', 'close', 'volume'])\n",
    "        a_series[\"time\"] = datetime.datetime.strptime(a_series[\"time\"], '%Y-%m-%d %H:%M:%S')\n",
    "        a_series[\"open\"] = pandas.to_numeric(a_series[\"open\"], downcast=\"float\")\n",
    "        a_series[\"high\"] = pandas.to_numeric(a_series[\"high\"], downcast=\"float\")\n",
    "        a_series[\"low\"] = pandas.to_numeric(a_series[\"low\"], downcast=\"float\")\n",
    "        a_series[\"close\"] = pandas.to_numeric(a_series[\"close\"], downcast=\"float\")\n",
    "        a_series[\"volume\"] = pandas.to_numeric(a_series[\"volume\"], downcast=\"float\")\n",
    "        a_series[\"Stock_Name\"] = stockname\n",
    "        data_e_use = data_e_use.append(a_series, ignore_index=True)\n",
    "        \n",
    "    Timing_final_filename = (f\"Timing FINAL_{stockname}_{timing}.csv\")\n",
    "    data_e_use.to_csv(Timing_final_filename)"
   ]
  },
  {
   "cell_type": "markdown",
   "id": "c2b58ca2",
   "metadata": {},
   "source": [
    "# 5) Call 3 & 4 by looping"
   ]
  },
  {
   "cell_type": "code",
   "execution_count": 6,
   "id": "ee875a88",
   "metadata": {},
   "outputs": [],
   "source": [
    "def scrape_ext(stockname):\n",
    "    Full_Slice = [\"year1month1\", \"year1month2\", \"year1month3\", \"year1month4\", \"year1month5\", \"year1month6\", \"year1month7\", \"year1month8\", \"year1month9\", \"year1month10\", \"year1month11\", \"year1month12\", \"year2month1\", \"year2month2\", \"year2month3\", \"year2month4\", \"year2month5\", \"year2month6\", \"year2month7\", \"year2month8\", \"year2month9\", \"year2month10\", \"year2month11\", \"year2month12\"]\n",
    "    for each_timing in Full_Slice:\n",
    "        error_token = 0\n",
    "        try:\n",
    "            scrape_ext_temp_write(stockname, each_timing)\n",
    "        except:\n",
    "            print(f\"during {stockname}_{each_timing} writing temp file exception raise, error count = {error_token+1} time\")\n",
    "            if error_token < 3:\n",
    "                print(f\"{stockname}_{each_timing} from error = {error_token+1} if (token < 3) was called\")\n",
    "                error_token = error_token+1\n",
    "                time.sleep(60)\n",
    "                pass\n",
    "            else:\n",
    "                print(f\"during {stockname}_{each_timing} writing temp error else (token >= 3) was called\")\n",
    "                continue\n",
    "                \n",
    "        error_token = 0\n",
    "        try:  \n",
    "            scrape_ext_temp_processor(stockname, each_timing)\n",
    "        except:\n",
    "            print(f\"during {stockname}_{each_timing} processing file exception raise, error count = {error_token+1} time\")\n",
    "            if error_token < 3:\n",
    "                print(f\"{stockname}_{each_timing} from error = {error_token+1} if (token < 3) was called\")\n",
    "                error_token = error_token+1\n",
    "                time.sleep(60)\n",
    "                pass\n",
    "            else:\n",
    "                print(f\"during {stockname}_{each_timing} processing temp error else (token >= 3) was called\")\n",
    "                continue"
   ]
  },
  {
   "cell_type": "code",
   "execution_count": 7,
   "id": "fda91089",
   "metadata": {},
   "outputs": [],
   "source": [
    "scrape_ext(\"BA\")"
   ]
  },
  {
   "cell_type": "code",
   "execution_count": null,
   "id": "6f3e09cd",
   "metadata": {},
   "outputs": [],
   "source": [
    "scrape_ext(\"RTX\")"
   ]
  },
  {
   "cell_type": "code",
   "execution_count": null,
   "id": "f34545f8",
   "metadata": {},
   "outputs": [],
   "source": [
    "scrape_ext(\"GD\")"
   ]
  },
  {
   "cell_type": "code",
   "execution_count": null,
   "id": "f83f20f2",
   "metadata": {},
   "outputs": [],
   "source": [
    "scrape_ext(\"HII\")"
   ]
  },
  {
   "cell_type": "code",
   "execution_count": null,
   "id": "1fb37a23",
   "metadata": {},
   "outputs": [],
   "source": [
    "scrape_ext(\"NOC\")"
   ]
  },
  {
   "cell_type": "code",
   "execution_count": null,
   "id": "0506ac0f",
   "metadata": {},
   "outputs": [],
   "source": [
    "scrape_ext(\"TXT\")"
   ]
  },
  {
   "cell_type": "code",
   "execution_count": null,
   "id": "2cb55ff8",
   "metadata": {},
   "outputs": [],
   "source": [
    "scrape_ext(\"LDOS\")"
   ]
  },
  {
   "cell_type": "code",
   "execution_count": null,
   "id": "62dbb06f",
   "metadata": {},
   "outputs": [],
   "source": [
    "scrape_ext(\"BWXT\")"
   ]
  },
  {
   "cell_type": "code",
   "execution_count": null,
   "id": "294d2b03",
   "metadata": {},
   "outputs": [],
   "source": [
    "scrape_ext(\"LHX\")"
   ]
  },
  {
   "cell_type": "code",
   "execution_count": null,
   "id": "9e82f473",
   "metadata": {},
   "outputs": [],
   "source": [
    "scrape_ext(\"CACI\")"
   ]
  },
  {
   "cell_type": "code",
   "execution_count": null,
   "id": "39a3f8d9",
   "metadata": {},
   "outputs": [],
   "source": [
    "scrape_ext(\"MANT\")"
   ]
  }
 ],
 "metadata": {
  "kernelspec": {
   "display_name": "Python 3",
   "language": "python",
   "name": "python3"
  },
  "language_info": {
   "codemirror_mode": {
    "name": "ipython",
    "version": 3
   },
   "file_extension": ".py",
   "mimetype": "text/x-python",
   "name": "python",
   "nbconvert_exporter": "python",
   "pygments_lexer": "ipython3",
   "version": "3.7.6"
  }
 },
 "nbformat": 4,
 "nbformat_minor": 5
}
